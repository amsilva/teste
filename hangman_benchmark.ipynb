{
  "nbformat": 4,
  "nbformat_minor": 0,
  "metadata": {
    "colab": {
      "provenance": [],
      "authorship_tag": "ABX9TyPC8ngOdfWv/sx0fdbymV2x",
      "include_colab_link": true
    },
    "kernelspec": {
      "name": "python3",
      "display_name": "Python 3"
    },
    "language_info": {
      "name": "python"
    }
  },
  "cells": [
    {
      "cell_type": "markdown",
      "metadata": {
        "id": "view-in-github",
        "colab_type": "text"
      },
      "source": [
        "<a href=\"https://colab.research.google.com/github/amsilva/teste/blob/master/hangman_benchmark.ipynb\" target=\"_parent\"><img src=\"https://colab.research.google.com/assets/colab-badge.svg\" alt=\"Open In Colab\"/></a>"
      ]
    },
    {
      "cell_type": "markdown",
      "source": [
        "***`benchmark, template`***\n",
        "```\n",
        "# This is formatted as code\n",
        "```\n",
        "\n"
      ],
      "metadata": {
        "id": "nLzVLgHmEx6O"
      }
    },
    {
      "cell_type": "markdown",
      "source": [
        "**1 - Definições**"
      ],
      "metadata": {
        "id": "rwFgVndOFlNP"
      }
    },
    {
      "cell_type": "code",
      "source": [
        "alvo = \"laranja\"\n",
        "letras_usadas = []\n",
        "tentativas = 0\n",
        "acertou = False\n",
        "\n",
        "continua_jogo = True\n",
        "cont_erros = 0\n",
        "cont_acertos = 0\n",
        "\n",
        "pontotemp = 0\n",
        "pontototal = 0\n",
        "global dica1\n",
        "\n",
        "fase = 0\n",
        "\n"
      ],
      "metadata": {
        "id": "zGGkoyVyFtyn"
      },
      "execution_count": 51,
      "outputs": []
    },
    {
      "cell_type": "code",
      "source": [
        "def debuga_teste1(alvo, erros, maxcomb):\n",
        "  s = len(alvo)\n",
        "  d = 1\n",
        "  n = len(set(alvo)) #acertos necessarios\n",
        "  e = 6 - erros\n",
        "  print('s = ', s)\n",
        "  print('d = ', d)\n",
        "  print('n = ', n)\n",
        "  print('e = ', e)\n",
        "  print('c = ', maxcomb)\n",
        "\n",
        "def mostra_dica1(letra, alvo):\n",
        "  global dica1\n",
        "  for i in range(len(alvo)):\n",
        "    if alvo[i] == letra:\n",
        "      dica1 = dica1[:i] + letra + dica1[i+1:]\n",
        "  print(dica1)\n",
        "\n"
      ],
      "metadata": {
        "id": "2mkVIAGaIcQZ"
      },
      "execution_count": 52,
      "outputs": []
    },
    {
      "cell_type": "markdown",
      "source": [
        "**2 - Controle (Motor)**"
      ],
      "metadata": {
        "id": "holBm8PcFzw3"
      }
    },
    {
      "cell_type": "code",
      "source": [
        "while continua_jogo : #ciclo do jogo\n",
        "\n",
        "  acertou = False\n",
        "  cont_erros = 0\n",
        "  cont_acertos = 0\n",
        "  letras_usadas = []\n",
        "  tentativas = 0\n",
        "  fase += 1\n",
        "  print(f\"\\n*** FASE {fase} ***\")\n",
        "  alvo = input(\"Digite a palavra alvo (para teste): \")\n",
        "  dica1 = '-' * len(alvo)\n",
        "  s = len(alvo)\n",
        "  d = 1\n",
        "  n = len(set(alvo))\n",
        "  comb = 0\n",
        "  maxcomb = 0\n",
        "\n",
        "  ##while not acertou and cont_erros < 6 : #ciclo da palavra  ##DEBUGTEST\n",
        "  letraslist = input(\"LETRAS: \")\n",
        "  for letra in letraslist:\n",
        "    ##letra = input(\"LETRA: \") ##DEBUGTEST\n",
        "\n",
        "    if letra not in letras_usadas :\n",
        "      letras_usadas.append(letra)\n",
        "      tentativas = tentativas + 1\n",
        "      if letra in alvo :\n",
        "        comb += 1\n",
        "        print(\"Possui a letra!: \")\n",
        "        cont_acertos = cont_acertos + alvo.count(letra)\n",
        "        mostra_dica1(letra, alvo)\n",
        "        if cont_acertos == len(alvo) :\n",
        "          acertou = True\n",
        "      else :\n",
        "        comb = 0\n",
        "        cont_erros = cont_erros + 1\n",
        "        print(\"Chute errado, erro = \", cont_erros)\n",
        "\n",
        "      if comb > maxcomb :\n",
        "        maxcomb = comb\n",
        "\n",
        "  if acertou :                                   #acerto na ronda\n",
        "    print(\"\\nParabéns. Você ganhou!\")\n",
        "    print(f\"Com {tentativas} tentativas.\")\n",
        "    e = 6 - cont_erros\n",
        "    maxcomb = maxcomb if maxcomb > 1 else 0\n",
        "    debuga_teste1(alvo, cont_erros, maxcomb)     #debug\n",
        "    pontotemp = (s + d) * (n + e)\n",
        "    pontototal = pontotemp + pontototal\n",
        "    print(f\"Pontos na ronda = {pontotemp}\")\n",
        "    print(f\"Pontuação parcial = {pontototal}\")\n",
        "\n",
        "    print(f\"Proxima fase...\")\n",
        "  else :\n",
        "    print(\"\\nPerdeu! Fim do jogo.\")\n",
        "    print(\"A palavra era: \", alvo)\n",
        "    continua_jogo = False\n"
      ],
      "metadata": {
        "id": "bKu3AAFgB7ng",
        "colab": {
          "base_uri": "https://localhost:8080/"
        },
        "outputId": "71dc6167-49b7-461d-ae35-cbdb14cd1e64"
      },
      "execution_count": 53,
      "outputs": [
        {
          "output_type": "stream",
          "name": "stdout",
          "text": [
            "\n",
            "*** FASE 1 ***\n",
            "Digite a palavra alvo (para teste): rocambole\n",
            "LETRAS: rocxaymbolge\n",
            "Possui a letra!: \n",
            "r--------\n",
            "Possui a letra!: \n",
            "ro----o--\n",
            "Possui a letra!: \n",
            "roc---o--\n",
            "Chute errado, erro =  1\n",
            "Possui a letra!: \n",
            "roca--o--\n",
            "Chute errado, erro =  2\n",
            "Possui a letra!: \n",
            "rocam-o--\n",
            "Possui a letra!: \n",
            "rocambo--\n",
            "Possui a letra!: \n",
            "rocambol-\n",
            "Chute errado, erro =  3\n",
            "Possui a letra!: \n",
            "rocambole\n",
            "\n",
            "Parabéns. Você ganhou!\n",
            "Com 11 tentativas.\n",
            "s =  9\n",
            "d =  1\n",
            "n =  8\n",
            "e =  3\n",
            "c =  3\n",
            "Pontos na ronda = 110\n",
            "Pontuação parcial = 110\n",
            "Proxima fase...\n",
            "\n",
            "*** FASE 2 ***\n",
            "Digite a palavra alvo (para teste): cebola\n",
            "LETRAS: xhjkpçrfcebola\n",
            "Chute errado, erro =  1\n",
            "Chute errado, erro =  2\n",
            "Chute errado, erro =  3\n",
            "Chute errado, erro =  4\n",
            "Chute errado, erro =  5\n",
            "Chute errado, erro =  6\n",
            "Chute errado, erro =  7\n",
            "Chute errado, erro =  8\n",
            "Possui a letra!: \n",
            "c-----\n",
            "Possui a letra!: \n",
            "ce----\n",
            "Possui a letra!: \n",
            "ceb---\n",
            "Possui a letra!: \n",
            "cebo--\n",
            "Possui a letra!: \n",
            "cebol-\n",
            "Possui a letra!: \n",
            "cebola\n",
            "\n",
            "Parabéns. Você ganhou!\n",
            "Com 14 tentativas.\n",
            "s =  6\n",
            "d =  1\n",
            "n =  6\n",
            "e =  -2\n",
            "c =  6\n",
            "Pontos na ronda = 28\n",
            "Pontuação parcial = 138\n",
            "Proxima fase...\n",
            "\n",
            "*** FASE 3 ***\n",
            "Digite a palavra alvo (para teste): cebola\n",
            "LETRAS: xhjkpçrfcebol\n",
            "Chute errado, erro =  1\n",
            "Chute errado, erro =  2\n",
            "Chute errado, erro =  3\n",
            "Chute errado, erro =  4\n",
            "Chute errado, erro =  5\n",
            "Chute errado, erro =  6\n",
            "Chute errado, erro =  7\n",
            "Chute errado, erro =  8\n",
            "Possui a letra!: \n",
            "c-----\n",
            "Possui a letra!: \n",
            "ce----\n",
            "Possui a letra!: \n",
            "ceb---\n",
            "Possui a letra!: \n",
            "cebo--\n",
            "Possui a letra!: \n",
            "cebol-\n",
            "\n",
            "Perdeu! Fim do jogo.\n",
            "A palavra era:  cebola\n"
          ]
        }
      ]
    },
    {
      "cell_type": "code",
      "source": [
        ""
      ],
      "metadata": {
        "id": "9vdE5_FrBpMv"
      },
      "execution_count": 53,
      "outputs": []
    },
    {
      "cell_type": "markdown",
      "source": [
        "**3 - Resultado**"
      ],
      "metadata": {
        "id": "Jn2ZYneSF4dO"
      }
    },
    {
      "cell_type": "code",
      "execution_count": 54,
      "metadata": {
        "id": "TDV17yzONtLx",
        "colab": {
          "base_uri": "https://localhost:8080/"
        },
        "outputId": "f3819d5c-cc00-4d9c-f51f-cdae0cf94118"
      },
      "outputs": [
        {
          "output_type": "stream",
          "name": "stdout",
          "text": [
            "*** \n",
            "GAME OVER\n",
            "Pontuação total = 138, 2 fase(s)\n"
          ]
        }
      ],
      "source": [
        "print(\"*** \")\n",
        "print(\"GAME OVER\")\n",
        "print(f\"Pontuação total = {pontototal}, {fase-1} fase(s)\")\n",
        "\n"
      ]
    }
  ]
}